{
 "cells": [
  {
   "cell_type": "markdown",
   "metadata": {},
   "source": [
    "# Elementary Cellular Automata"
   ]
  },
  {
   "cell_type": "code",
   "execution_count": 9,
   "metadata": {},
   "outputs": [],
   "source": [
    "import matplotlib.pyplot as plt\n",
    "import numpy as np"
   ]
  },
  {
   "cell_type": "code",
   "execution_count": 10,
   "metadata": {},
   "outputs": [],
   "source": [
    "#30 ruleset= np.array([0,0,0,1,1,1,1,0])\n",
    "#90 ruleset= np.array([0,1,0,1,1,0,1,0])\n",
    "ruleset= np.array([0,1,1,0,1,1,1,0])"
   ]
  },
  {
   "cell_type": "markdown",
   "metadata": {},
   "source": [
    "These rulesets represent three of the 256 possible cellular automata rulesets. "
   ]
  },
  {
   "cell_type": "code",
   "execution_count": 11,
   "metadata": {},
   "outputs": [],
   "source": [
    "def rules(a,b,c):\n",
    "    if int(a)==1 and int(b)==1 and int(c)==1:\n",
    "        return ruleset [0]\n",
    "    elif int(a)==1 and int(b)==1 and int(c)==0:\n",
    "        return ruleset [1]\n",
    "    elif int(a)==1 and int(b)==0 and int(c)==1:\n",
    "        return ruleset [2]\n",
    "    elif int(a)==1 and int(b)==0 and int(c)==0:\n",
    "        return ruleset [3]\n",
    "    elif int(a)==0 and int(b)==1 and int(c)==1:\n",
    "        return ruleset [4]\n",
    "    elif int(a)==0 and int(b)==1 and int(c)==0:\n",
    "        return ruleset [5]\n",
    "    elif int(a)==0 and int(b)==0 and int(c)==1:\n",
    "        return ruleset [6]\n",
    "    elif int(a)==0 and int(b)==0 and int(c)==0:\n",
    "        return ruleset [7]\n",
    "    else:\n",
    "        return int(0)"
   ]
  },
  {
   "cell_type": "markdown",
   "metadata": {},
   "source": [
    "The above represents how the new generations are formed according to the specific live rule."
   ]
  },
  {
   "cell_type": "code",
   "execution_count": 12,
   "metadata": {},
   "outputs": [],
   "source": [
    "gen1=np.random.randint(0,2,21)\n",
    "gen2=np.array([rules(gen1[20],gen1[0],gen1[1]),rules(gen1[0],gen1[1], gen1[2]),rules(gen1[1],gen1[2], gen1[3]),rules(gen1[2],gen1[3], gen1[4]),rules(gen1[3],gen1[4], gen1[5]),rules(gen1[4],gen1[5], gen1[6]),rules(gen1[5],gen1[6], gen1[7]),rules(gen1[6],gen1[7], gen1[8]),rules(gen1[7],gen1[8], gen1[9]),rules(gen1[8],gen1[9], gen1[10]),rules(gen1[9],gen1[10], gen1[11]),rules(gen1[10],gen1[11], gen1[12]),rules(gen1[11],gen1[12], gen1[13]),rules(gen1[12],gen1[13], gen1[14]),rules(gen1[13],gen1[14], gen1[15]),rules(gen1[14],gen1[15], gen1[16]),rules(gen1[15],gen1[16], gen1[17]),rules(gen1[16],gen1[17], gen1[18]),rules(gen1[17],gen1[18], gen1[19]),rules(gen1[18],gen1[19], gen1[20]),rules(gen1[19],gen1[20], gen1[0])])\n",
    "gen3=np.array([rules(gen2[20],gen2[0],gen2[1]),rules(gen2[0],gen2[1], gen2[2]),rules(gen2[1],gen2[2], gen2[3]),rules(gen2[2],gen2[3], gen2[4]),rules(gen2[3],gen2[4], gen2[5]),rules(gen2[4],gen2[5], gen2[6]),rules(gen2[5],gen2[6], gen2[7]),rules(gen2[6],gen2[7], gen2[8]),rules(gen2[7],gen2[8], gen2[9]),rules(gen2[8],gen2[9], gen2[10]),rules(gen2[9],gen2[10], gen2[11]),rules(gen2[10],gen2[11], gen2[12]),rules(gen2[11],gen2[12], gen2[13]),rules(gen2[12],gen2[13], gen2[14]),rules(gen2[13],gen2[14], gen2[15]),rules(gen2[14],gen2[15], gen2[16]),rules(gen2[15],gen2[16], gen2[17]),rules(gen2[16],gen2[17], gen2[18]),rules(gen2[17],gen2[18], gen2[19]),rules(gen2[18],gen2[19], gen2[20]),rules(gen2[19],gen2[20], gen2[0])])\n",
    "gen4=np.array([rules(gen3[20],gen3[0],gen3[1]),rules(gen3[0],gen3[1], gen3[2]),rules(gen3[1],gen3[2], gen3[3]),rules(gen3[2],gen3[3], gen3[4]),rules(gen3[3],gen3[4], gen3[5]),rules(gen3[4],gen3[5], gen3[6]),rules(gen3[5],gen3[6], gen3[7]),rules(gen3[6],gen3[7], gen3[8]),rules(gen3[7],gen3[8], gen3[9]),rules(gen3[8],gen3[9], gen3[10]),rules(gen3[9],gen3[10], gen3[11]),rules(gen3[10],gen3[11], gen3[12]),rules(gen3[11],gen3[12], gen3[13]),rules(gen3[12],gen3[13], gen3[14]),rules(gen3[13],gen3[14], gen3[15]),rules(gen3[14],gen3[15], gen3[16]),rules(gen3[15],gen3[16], gen3[17]),rules(gen3[16],gen3[17], gen3[18]),rules(gen3[17],gen3[18], gen3[19]),rules(gen3[18],gen3[19], gen3[20]),rules(gen3[19],gen3[20], gen3[0])])\n",
    "gen5=np.array([rules(gen4[20],gen4[0],gen4[1]),rules(gen4[0],gen4[1], gen4[2]),rules(gen4[1],gen4[2], gen4[3]),rules(gen4[2],gen4[3], gen4[4]),rules(gen4[3],gen4[4], gen4[5]),rules(gen4[4],gen4[5], gen4[6]),rules(gen4[5],gen4[6], gen4[7]),rules(gen4[6],gen4[7], gen4[8]),rules(gen4[7],gen4[8], gen4[9]),rules(gen4[8],gen4[9], gen4[10]),rules(gen4[9],gen4[10], gen4[11]),rules(gen4[10],gen4[11], gen4[12]),rules(gen4[11],gen4[12], gen4[13]),rules(gen4[12],gen4[13], gen4[14]),rules(gen4[13],gen4[14], gen4[15]),rules(gen4[14],gen4[15], gen4[16]),rules(gen4[15],gen4[16], gen4[17]),rules(gen4[16],gen4[17], gen4[18]),rules(gen4[17],gen4[18], gen4[19]),rules(gen4[18],gen4[19], gen4[20]),rules(gen4[19],gen4[20], gen4[0])])\n",
    "gen6=np.array([rules(gen5[20],gen5[0],gen5[1]),rules(gen5[0],gen5[1], gen5[2]),rules(gen5[1],gen5[2], gen5[3]),rules(gen5[2],gen5[3], gen5[4]),rules(gen5[3],gen5[4], gen5[5]),rules(gen5[4],gen5[5], gen5[6]),rules(gen5[5],gen5[6], gen5[7]),rules(gen5[6],gen5[7], gen5[8]),rules(gen5[7],gen5[8], gen5[9]),rules(gen5[8],gen5[9], gen5[10]),rules(gen5[9],gen5[10], gen5[11]),rules(gen5[10],gen5[11], gen5[12]),rules(gen5[11],gen5[12], gen5[13]),rules(gen5[12],gen5[13], gen5[14]),rules(gen5[13],gen5[14], gen5[15]),rules(gen5[14],gen5[15], gen5[16]),rules(gen5[15],gen5[16], gen5[17]),rules(gen5[16],gen5[17], gen5[18]),rules(gen5[17],gen5[18], gen5[19]),rules(gen5[18],gen5[19], gen5[20]),rules(gen5[19],gen5[20], gen5[0])])\n",
    "gen7=np.array([rules(gen6[20],gen6[0],gen6[1]),rules(gen6[0],gen6[1], gen6[2]),rules(gen6[1],gen6[2], gen6[3]),rules(gen6[2],gen6[3], gen6[4]),rules(gen6[3],gen6[4], gen6[5]),rules(gen6[4],gen6[5], gen6[6]),rules(gen6[5],gen6[6], gen6[7]),rules(gen6[6],gen6[7], gen6[8]),rules(gen6[7],gen6[8], gen6[9]),rules(gen6[8],gen6[9], gen6[10]),rules(gen6[9],gen6[10], gen6[11]),rules(gen6[10],gen6[11], gen6[12]),rules(gen6[11],gen6[12], gen6[13]),rules(gen6[12],gen6[13], gen6[14]),rules(gen6[13],gen6[14], gen6[15]),rules(gen6[14],gen6[15], gen6[16]),rules(gen6[15],gen6[16], gen6[17]),rules(gen6[16],gen6[17], gen6[18]),rules(gen6[17],gen6[18], gen6[19]),rules(gen6[18],gen6[19], gen6[20]),rules(gen6[19],gen6[20], gen6[0])])\n",
    "gen8=np.array([rules(gen7[20],gen7[0],gen7[1]),rules(gen7[0],gen7[1], gen7[2]),rules(gen7[1],gen7[2], gen7[3]),rules(gen7[2],gen7[3], gen7[4]),rules(gen7[3],gen7[4], gen7[5]),rules(gen7[4],gen7[5], gen7[6]),rules(gen7[5],gen7[6], gen7[7]),rules(gen7[6],gen7[7], gen7[8]),rules(gen7[7],gen7[8], gen7[9]),rules(gen7[8],gen7[9], gen7[10]),rules(gen7[9],gen7[10], gen7[11]),rules(gen7[10],gen7[11], gen7[12]),rules(gen7[11],gen7[12], gen7[13]),rules(gen7[12],gen7[13], gen7[14]),rules(gen7[13],gen7[14], gen7[15]),rules(gen7[14],gen7[15], gen7[16]),rules(gen7[15],gen7[16], gen7[17]),rules(gen7[16],gen7[17], gen7[18]),rules(gen7[17],gen7[18], gen7[19]),rules(gen7[18],gen7[19], gen7[20]),rules(gen7[19],gen7[20], gen7[0])])\n",
    "gen9=np.array([rules(gen8[20],gen8[0],gen8[1]),rules(gen8[0],gen8[1], gen8[2]),rules(gen8[1],gen8[2], gen8[3]),rules(gen8[2],gen8[3], gen8[4]),rules(gen8[3],gen8[4], gen8[5]),rules(gen8[4],gen8[5], gen8[6]),rules(gen8[5],gen8[6], gen8[7]),rules(gen8[6],gen8[7], gen8[8]),rules(gen8[7],gen8[8], gen8[9]),rules(gen8[8],gen8[9], gen8[10]),rules(gen8[9],gen8[10], gen8[11]),rules(gen8[10],gen8[11], gen8[12]),rules(gen8[11],gen8[12], gen8[13]),rules(gen8[12],gen8[13], gen8[14]),rules(gen8[13],gen8[14], gen8[15]),rules(gen8[14],gen8[15], gen8[16]),rules(gen8[15],gen8[16], gen8[17]),rules(gen8[16],gen8[17], gen8[18]),rules(gen8[17],gen8[18], gen8[19]),rules(gen8[18],gen8[19], gen8[20]),rules(gen8[19],gen8[20], gen8[0])])\n",
    "gen10=np.array([rules(gen9[20],gen9[0],gen9[1]),rules(gen9[0],gen9[1], gen9[2]),rules(gen9[1],gen9[2], gen9[3]),rules(gen9[2],gen9[3], gen9[4]),rules(gen9[3],gen9[4], gen9[5]),rules(gen9[4],gen9[5], gen9[6]),rules(gen9[5],gen9[6], gen9[7]),rules(gen9[6],gen9[7], gen9[8]),rules(gen9[7],gen9[8], gen9[9]),rules(gen9[8],gen9[9], gen9[10]),rules(gen9[9],gen9[10], gen9[11]),rules(gen9[10],gen9[11], gen9[12]),rules(gen9[11],gen9[12], gen9[13]),rules(gen9[12],gen9[13], gen9[14]),rules(gen9[13],gen9[14], gen9[15]),rules(gen9[14],gen9[15], gen9[16]),rules(gen9[15],gen9[16], gen9[17]),rules(gen9[16],gen9[17], gen9[18]),rules(gen9[17],gen9[18], gen9[19]),rules(gen9[18],gen9[19], gen9[20]),rules(gen9[19],gen9[20], gen9[0])])\n",
    "gen11=np.array([rules(gen10[20],gen10[0],gen10[1]),rules(gen10[0],gen10[1], gen10[2]),rules(gen10[1],gen10[2], gen10[3]),rules(gen10[2],gen10[3], gen10[4]),rules(gen10[3],gen10[4], gen10[5]),rules(gen10[4],gen10[5], gen10[6]),rules(gen10[5],gen10[6], gen10[7]),rules(gen10[6],gen10[7], gen10[8]),rules(gen10[7],gen10[8], gen10[9]),rules(gen10[8],gen10[9], gen10[10]),rules(gen10[9],gen10[10], gen10[11]),rules(gen10[10],gen10[11], gen10[12]),rules(gen10[11],gen10[12], gen10[13]),rules(gen10[12],gen10[13], gen10[14]),rules(gen10[13],gen10[14], gen10[15]),rules(gen10[14],gen10[15], gen10[16]),rules(gen10[15],gen10[16], gen10[17]),rules(gen10[16],gen10[17], gen10[18]),rules(gen10[17],gen10[18], gen10[19]),rules(gen10[18],gen10[19], gen10[20]),rules(gen10[19],gen10[20], gen10[0])])\n",
    "gen12=np.array([rules(gen11[20],gen11[0],gen11[1]),rules(gen11[0],gen11[1], gen11[2]),rules(gen11[1],gen11[2], gen11[3]),rules(gen11[2],gen11[3], gen11[4]),rules(gen11[3],gen11[4], gen11[5]),rules(gen11[4],gen11[5], gen11[6]),rules(gen11[5],gen11[6], gen11[7]),rules(gen11[6],gen11[7], gen11[8]),rules(gen11[7],gen11[8], gen11[9]),rules(gen11[8],gen11[9], gen11[10]),rules(gen11[9],gen11[10], gen11[11]),rules(gen11[10],gen11[11], gen11[12]),rules(gen11[11],gen11[12], gen11[13]),rules(gen11[12],gen11[13], gen11[14]),rules(gen11[13],gen11[14], gen11[15]),rules(gen11[14],gen11[15], gen11[16]),rules(gen11[15],gen11[16], gen11[17]),rules(gen11[16],gen11[17], gen11[18]),rules(gen11[17],gen11[18], gen11[19]),rules(gen11[18],gen11[19], gen11[20]),rules(gen11[19],gen11[20], gen11[0])])\n",
    "gen13=np.array([rules(gen12[20],gen12[0],gen12[1]),rules(gen12[0],gen12[1], gen12[2]),rules(gen12[1],gen12[2], gen12[3]),rules(gen12[2],gen12[3], gen12[4]),rules(gen12[3],gen12[4], gen12[5]),rules(gen12[4],gen12[5], gen12[6]),rules(gen12[5],gen12[6], gen12[7]),rules(gen12[6],gen12[7], gen12[8]),rules(gen12[7],gen12[8], gen12[9]),rules(gen12[8],gen12[9], gen12[10]),rules(gen12[9],gen12[10], gen12[11]),rules(gen12[10],gen12[11], gen12[12]),rules(gen12[11],gen12[12], gen12[13]),rules(gen12[12],gen12[13], gen12[14]),rules(gen12[13],gen12[14], gen12[15]),rules(gen12[14],gen12[15], gen12[16]),rules(gen12[15],gen12[16], gen12[17]),rules(gen12[16],gen12[17], gen12[18]),rules(gen12[17],gen12[18], gen12[19]),rules(gen12[18],gen12[19], gen12[20]),rules(gen12[19],gen12[20], gen12[0])])\n",
    "gen14=np.array([rules(gen13[20],gen13[0],gen13[1]),rules(gen13[0],gen13[1], gen13[2]),rules(gen13[1],gen13[2], gen13[3]),rules(gen13[2],gen13[3], gen13[4]),rules(gen13[3],gen13[4], gen13[5]),rules(gen13[4],gen13[5], gen13[6]),rules(gen13[5],gen13[6], gen13[7]),rules(gen13[6],gen13[7], gen13[8]),rules(gen13[7],gen13[8], gen13[9]),rules(gen13[8],gen13[9], gen13[10]),rules(gen13[9],gen13[10], gen13[11]),rules(gen13[10],gen13[11], gen13[12]),rules(gen13[11],gen13[12], gen13[13]),rules(gen13[12],gen13[13], gen13[14]),rules(gen13[13],gen13[14], gen13[15]),rules(gen13[14],gen13[15], gen13[16]),rules(gen13[15],gen13[16], gen13[17]),rules(gen13[16],gen13[17], gen13[18]),rules(gen13[17],gen13[18], gen13[19]),rules(gen13[18],gen13[19], gen13[20]),rules(gen13[19],gen13[20], gen13[0])])\n",
    "gen15=np.array([rules(gen14[20],gen14[0],gen14[1]),rules(gen14[0],gen14[1], gen14[2]),rules(gen14[1],gen14[2], gen14[3]),rules(gen14[2],gen14[3], gen14[4]),rules(gen14[3],gen14[4], gen14[5]),rules(gen14[4],gen14[5], gen14[6]),rules(gen14[5],gen14[6], gen14[7]),rules(gen14[6],gen14[7], gen14[8]),rules(gen14[7],gen14[8], gen14[9]),rules(gen14[8],gen14[9], gen14[10]),rules(gen14[9],gen14[10], gen14[11]),rules(gen14[10],gen14[11], gen14[12]),rules(gen14[11],gen14[12], gen14[13]),rules(gen14[12],gen14[13], gen14[14]),rules(gen14[13],gen14[14], gen14[15]),rules(gen14[14],gen14[15], gen14[16]),rules(gen14[15],gen14[16], gen14[17]),rules(gen14[16],gen14[17], gen14[18]),rules(gen14[17],gen14[18], gen14[19]),rules(gen14[18],gen14[19], gen14[20]),rules(gen14[19],gen14[20], gen14[0])])\n",
    "gen16=np.array([rules(gen15[20],gen15[0],gen15[1]),rules(gen15[0],gen15[1], gen15[2]),rules(gen15[1],gen15[2], gen15[3]),rules(gen15[2],gen15[3], gen15[4]),rules(gen15[3],gen15[4], gen15[5]),rules(gen15[4],gen15[5], gen15[6]),rules(gen15[5],gen15[6], gen15[7]),rules(gen15[6],gen15[7], gen15[8]),rules(gen15[7],gen15[8], gen15[9]),rules(gen15[8],gen15[9], gen15[10]),rules(gen15[9],gen15[10], gen15[11]),rules(gen15[10],gen15[11], gen15[12]),rules(gen15[11],gen15[12], gen15[13]),rules(gen15[12],gen15[13], gen15[14]),rules(gen15[13],gen15[14], gen15[15]),rules(gen15[14],gen15[15], gen15[16]),rules(gen15[15],gen15[16], gen15[17]),rules(gen15[16],gen15[17], gen15[18]),rules(gen15[17],gen15[18], gen15[19]),rules(gen15[18],gen15[19], gen15[20]),rules(gen15[19],gen15[20], gen15[0])])\n",
    "gen17=np.array([rules(gen16[20],gen16[0],gen16[1]),rules(gen16[0],gen16[1], gen16[2]),rules(gen16[1],gen16[2], gen16[3]),rules(gen16[2],gen16[3], gen16[4]),rules(gen16[3],gen16[4], gen16[5]),rules(gen16[4],gen16[5], gen16[6]),rules(gen16[5],gen16[6], gen16[7]),rules(gen16[6],gen16[7], gen16[8]),rules(gen16[7],gen16[8], gen16[9]),rules(gen16[8],gen16[9], gen16[10]),rules(gen16[9],gen16[10], gen16[11]),rules(gen16[10],gen16[11], gen16[12]),rules(gen16[11],gen16[12], gen16[13]),rules(gen16[12],gen16[13], gen16[14]),rules(gen16[13],gen16[14], gen16[15]),rules(gen16[14],gen16[15], gen16[16]),rules(gen16[15],gen16[16], gen16[17]),rules(gen16[16],gen16[17], gen16[18]),rules(gen16[17],gen16[18], gen16[19]),rules(gen16[18],gen16[19], gen16[20]),rules(gen16[19],gen16[20], gen16[0])])\n",
    "gen18=np.array([rules(gen17[20],gen17[0],gen17[1]),rules(gen17[0],gen17[1], gen17[2]),rules(gen17[1],gen17[2], gen17[3]),rules(gen17[2],gen17[3], gen17[4]),rules(gen17[3],gen17[4], gen17[5]),rules(gen17[4],gen17[5], gen17[6]),rules(gen17[5],gen17[6], gen17[7]),rules(gen17[6],gen17[7], gen17[8]),rules(gen17[7],gen17[8], gen17[9]),rules(gen17[8],gen17[9], gen17[10]),rules(gen17[9],gen17[10], gen17[11]),rules(gen17[10],gen17[11], gen17[12]),rules(gen17[11],gen17[12], gen17[13]),rules(gen17[12],gen17[13], gen17[14]),rules(gen17[13],gen17[14], gen17[15]),rules(gen17[14],gen17[15], gen17[16]),rules(gen17[15],gen17[16], gen17[17]),rules(gen17[16],gen17[17], gen17[18]),rules(gen17[17],gen17[18], gen17[19]),rules(gen17[18],gen17[19], gen17[20]),rules(gen17[19],gen17[20], gen17[0])])\n",
    "gen19=np.array([rules(gen18[20],gen18[0],gen18[1]),rules(gen18[0],gen18[1], gen18[2]),rules(gen18[1],gen18[2], gen18[3]),rules(gen18[2],gen18[3], gen18[4]),rules(gen18[3],gen18[4], gen18[5]),rules(gen18[4],gen18[5], gen18[6]),rules(gen18[5],gen18[6], gen18[7]),rules(gen18[6],gen18[7], gen18[8]),rules(gen18[7],gen18[8], gen18[9]),rules(gen18[8],gen18[9], gen18[10]),rules(gen18[9],gen18[10], gen18[11]),rules(gen18[10],gen18[11], gen18[12]),rules(gen18[11],gen18[12], gen18[13]),rules(gen18[12],gen18[13], gen18[14]),rules(gen18[13],gen18[14], gen18[15]),rules(gen18[14],gen18[15], gen18[16]),rules(gen18[15],gen18[16], gen18[17]),rules(gen18[16],gen18[17], gen18[18]),rules(gen18[17],gen18[18], gen18[19]),rules(gen18[18],gen18[19], gen18[20]),rules(gen18[19],gen18[20], gen18[0])])\n",
    "gen20=np.array([rules(gen19[20],gen19[0],gen19[1]),rules(gen19[0],gen19[1], gen19[2]),rules(gen19[1],gen19[2], gen19[3]),rules(gen19[2],gen19[3], gen19[4]),rules(gen19[3],gen19[4], gen19[5]),rules(gen19[4],gen19[5], gen19[6]),rules(gen19[5],gen19[6], gen19[7]),rules(gen19[6],gen19[7], gen19[8]),rules(gen19[7],gen19[8], gen19[9]),rules(gen19[8],gen19[9], gen19[10]),rules(gen19[9],gen19[10], gen19[11]),rules(gen19[10],gen19[11], gen19[12]),rules(gen19[11],gen19[12], gen19[13]),rules(gen19[12],gen19[13], gen19[14]),rules(gen19[13],gen19[14], gen19[15]),rules(gen19[14],gen19[15], gen19[16]),rules(gen19[15],gen19[16], gen19[17]),rules(gen19[16],gen19[17], gen19[18]),rules(gen19[17],gen19[18], gen19[19]),rules(gen19[18],gen19[19], gen19[20]),rules(gen19[19],gen19[20], gen19[0])])\n",
    "gen21=np.array([rules(gen20[20],gen20[0],gen20[1]),rules(gen20[0],gen20[1], gen20[2]),rules(gen20[1],gen20[2], gen20[3]),rules(gen20[2],gen20[3], gen20[4]),rules(gen20[3],gen20[4], gen20[5]),rules(gen20[4],gen20[5], gen20[6]),rules(gen20[5],gen20[6], gen20[7]),rules(gen20[6],gen20[7], gen20[8]),rules(gen20[7],gen20[8], gen20[9]),rules(gen20[8],gen20[9], gen20[10]),rules(gen20[9],gen20[10], gen20[11]),rules(gen20[10],gen20[11], gen20[12]),rules(gen20[11],gen20[12], gen20[13]),rules(gen20[12],gen20[13], gen20[14]),rules(gen20[13],gen20[14], gen20[15]),rules(gen20[14],gen20[15], gen20[16]),rules(gen20[15],gen20[16], gen20[17]),rules(gen20[16],gen20[17], gen20[18]),rules(gen20[17],gen20[18], gen20[19]),rules(gen20[18],gen20[19], gen20[20]),rules(gen20[19],gen20[20], gen20[0])])\n",
    "    \n",
    "automata=np.vstack((gen1,gen2,gen3,gen4,gen5,gen6,gen7,gen8,gen9,gen10,gen11,gen12,gen1,gen14,gen15,gen16,gen17,gen18,gen19,gen20,gen21))"
   ]
  },
  {
   "cell_type": "markdown",
   "metadata": {},
   "source": [
    "This creates the array that will describe the image output. "
   ]
  },
  {
   "cell_type": "code",
   "execution_count": 13,
   "metadata": {},
   "outputs": [
    {
     "data": {
      "image/png": "[encoded data removed]",
      "text/plain": [
       "<Figure size 360x360 with 1 Axes>"
      ]
     },
     "metadata": {
      "needs_background": "light"
     },
     "output_type": "display_data"
    }
   ],
   "source": [
    "fig1=plt.figure(figsize=(5,5))\n",
    "plt.imshow(automata, cmap='binary',aspect='equal')\n",
    "plt.axis('image')\n",
    "plt.show()"
   ]
  }
 ],
 "metadata": {
  "kernelspec": {
   "display_name": "Python 3",
   "language": "python",
   "name": "python3"
  },
  "language_info": {
   "codemirror_mode": {
    "name": "ipython",
    "version": 3
   },
   "file_extension": ".py",
   "mimetype": "text/x-python",
   "name": "python",
   "nbconvert_exporter": "python",
   "pygments_lexer": "ipython3",
   "version": "3.7.0"
  }
 },
 "nbformat": 4,
 "nbformat_minor": 2
}
